{
 "cells": [
  {
   "cell_type": "markdown",
   "id": "7d4fbd9e-868c-497a-8daa-47795ffc45a9",
   "metadata": {},
   "source": [
    "**DSCI 100 09 Group 04 Project Proposal - Pulsar Star Dataset**"
   ]
  },
  {
   "cell_type": "markdown",
   "id": "21d5848c-6e69-4f8b-83ab-9e47742a96f7",
   "metadata": {},
   "source": [
    "The HTRU2 dataset consists of pulsar candidates from the High Time Resolution Universe Survey (South). Pulsars are rare, rapidly rotating Neutron stars that emit radio signals, with their unique patterns holding scientific significance. Identifying genuine pulsars amidst noise and radio frequency interference is a complex task. Machine learning techniques, particularly binary classification, are being employed to automatically categorize these candidates. Legitimate pulsar signals represent a minority class."
   ]
  },
  {
   "cell_type": "code",
   "execution_count": 1,
   "id": "478ddac4-d133-4266-ba41-f5f8bcf1b8f1",
   "metadata": {
    "tags": []
   },
   "outputs": [
    {
     "name": "stderr",
     "output_type": "stream",
     "text": [
      "── \u001b[1mAttaching core tidyverse packages\u001b[22m ──────────────────────── tidyverse 2.0.0 ──\n",
      "\u001b[32m✔\u001b[39m \u001b[34mdplyr    \u001b[39m 1.1.2     \u001b[32m✔\u001b[39m \u001b[34mreadr    \u001b[39m 2.1.4\n",
      "\u001b[32m✔\u001b[39m \u001b[34mforcats  \u001b[39m 1.0.0     \u001b[32m✔\u001b[39m \u001b[34mstringr  \u001b[39m 1.5.0\n",
      "\u001b[32m✔\u001b[39m \u001b[34mggplot2  \u001b[39m 3.4.3     \u001b[32m✔\u001b[39m \u001b[34mtibble   \u001b[39m 3.2.1\n",
      "\u001b[32m✔\u001b[39m \u001b[34mlubridate\u001b[39m 1.9.2     \u001b[32m✔\u001b[39m \u001b[34mtidyr    \u001b[39m 1.3.0\n",
      "\u001b[32m✔\u001b[39m \u001b[34mpurrr    \u001b[39m 1.0.2     \n",
      "── \u001b[1mConflicts\u001b[22m ────────────────────────────────────────── tidyverse_conflicts() ──\n",
      "\u001b[31m✖\u001b[39m \u001b[34mdplyr\u001b[39m::\u001b[32mfilter()\u001b[39m masks \u001b[34mstats\u001b[39m::filter()\n",
      "\u001b[31m✖\u001b[39m \u001b[34mdplyr\u001b[39m::\u001b[32mlag()\u001b[39m    masks \u001b[34mstats\u001b[39m::lag()\n",
      "\u001b[36mℹ\u001b[39m Use the conflicted package (\u001b[3m\u001b[34m<http://conflicted.r-lib.org/>\u001b[39m\u001b[23m) to force all conflicts to become errors\n",
      "── \u001b[1mAttaching packages\u001b[22m ────────────────────────────────────── tidymodels 1.1.1 ──\n",
      "\n",
      "\u001b[32m✔\u001b[39m \u001b[34mbroom       \u001b[39m 1.0.5     \u001b[32m✔\u001b[39m \u001b[34mrsample     \u001b[39m 1.2.0\n",
      "\u001b[32m✔\u001b[39m \u001b[34mdials       \u001b[39m 1.2.0     \u001b[32m✔\u001b[39m \u001b[34mtune        \u001b[39m 1.1.2\n",
      "\u001b[32m✔\u001b[39m \u001b[34minfer       \u001b[39m 1.0.4     \u001b[32m✔\u001b[39m \u001b[34mworkflows   \u001b[39m 1.1.3\n",
      "\u001b[32m✔\u001b[39m \u001b[34mmodeldata   \u001b[39m 1.2.0     \u001b[32m✔\u001b[39m \u001b[34mworkflowsets\u001b[39m 1.0.1\n",
      "\u001b[32m✔\u001b[39m \u001b[34mparsnip     \u001b[39m 1.1.1     \u001b[32m✔\u001b[39m \u001b[34myardstick   \u001b[39m 1.2.0\n",
      "\u001b[32m✔\u001b[39m \u001b[34mrecipes     \u001b[39m 1.0.8     \n",
      "\n",
      "── \u001b[1mConflicts\u001b[22m ───────────────────────────────────────── tidymodels_conflicts() ──\n",
      "\u001b[31m✖\u001b[39m \u001b[34mscales\u001b[39m::\u001b[32mdiscard()\u001b[39m masks \u001b[34mpurrr\u001b[39m::discard()\n",
      "\u001b[31m✖\u001b[39m \u001b[34mdplyr\u001b[39m::\u001b[32mfilter()\u001b[39m   masks \u001b[34mstats\u001b[39m::filter()\n",
      "\u001b[31m✖\u001b[39m \u001b[34mrecipes\u001b[39m::\u001b[32mfixed()\u001b[39m  masks \u001b[34mstringr\u001b[39m::fixed()\n",
      "\u001b[31m✖\u001b[39m \u001b[34mdplyr\u001b[39m::\u001b[32mlag()\u001b[39m      masks \u001b[34mstats\u001b[39m::lag()\n",
      "\u001b[31m✖\u001b[39m \u001b[34myardstick\u001b[39m::\u001b[32mspec()\u001b[39m masks \u001b[34mreadr\u001b[39m::spec()\n",
      "\u001b[31m✖\u001b[39m \u001b[34mrecipes\u001b[39m::\u001b[32mstep()\u001b[39m   masks \u001b[34mstats\u001b[39m::step()\n",
      "\u001b[34m•\u001b[39m Use \u001b[32mtidymodels_prefer()\u001b[39m to resolve common conflicts.\n",
      "\n"
     ]
    }
   ],
   "source": [
    "library(tidyverse)\n",
    "library(repr)\n",
    "library(tidymodels)"
   ]
  },
  {
   "cell_type": "markdown",
   "id": "6770ad11-6a6b-4c39-8098-75b9beae325c",
   "metadata": {},
   "source": [
    "The total set of variables per image in this data set is:\n",
    "\n",
    "Mean_IP: Mean of the integrated profile.\r",
    "SD_IP:. Standard deviation of the integrated profile.Kurtosis_IP:3. Excess kurtosis of the integrated profileSkewness_IP:\n",
    "4. Skewness of the integrated profilMean_DM_SNR:\r\n",
    "5. Mean of the DM-SNR curSD_DM_SNR:.\r\n",
    "6. Standard deviation of the DM-SNR cuKurtosis_DM_SNR:e.\r\n",
    "7. Excess kurtosis of the DM-SNR cSkeweness_DM-SNR:ve.\r\n",
    "8. Skewness of the DM-SNR Class:rThe diagnosis (0 = spurious examples(non-real), 1 = real pulsar examples)9. Class\r\n"
   ]
  },
  {
   "cell_type": "code",
   "execution_count": 17,
   "id": "d3776149-e5d1-4a94-90d4-f018ace51f1e",
   "metadata": {
    "tags": []
   },
   "outputs": [
    {
     "ename": "ERROR",
     "evalue": "Error in read_csv(\"HTRU_2.csv\", col_names = FALSE, na.rm = TRUE): unused argument (na.rm = TRUE)\n",
     "output_type": "error",
     "traceback": [
      "Error in read_csv(\"HTRU_2.csv\", col_names = FALSE, na.rm = TRUE): unused argument (na.rm = TRUE)\nTraceback:\n",
      "1. mutate(mutate(rename(read_csv(\"HTRU_2.csv\", col_names = FALSE, \n .     na.rm = TRUE), Mean_IP = X1, SD_IP = X2, Kurtosis_IP = X3, \n .     Skewness_IP = X4, Mean_DM_SNR = X5, SD_DM_SNR = X6, Kurtosis_DM_SNR = X7, \n .     Skeweness_DM_SNR = X8, Class = X9), Class = as_factor(Class)), \n .     Class = fct_recode(Class, Spurious = \"0\", `Real Pulsar` = \"1\"))",
      "2. mutate(rename(read_csv(\"HTRU_2.csv\", col_names = FALSE, na.rm = TRUE), \n .     Mean_IP = X1, SD_IP = X2, Kurtosis_IP = X3, Skewness_IP = X4, \n .     Mean_DM_SNR = X5, SD_DM_SNR = X6, Kurtosis_DM_SNR = X7, Skeweness_DM_SNR = X8, \n .     Class = X9), Class = as_factor(Class))",
      "3. rename(read_csv(\"HTRU_2.csv\", col_names = FALSE, na.rm = TRUE), \n .     Mean_IP = X1, SD_IP = X2, Kurtosis_IP = X3, Skewness_IP = X4, \n .     Mean_DM_SNR = X5, SD_DM_SNR = X6, Kurtosis_DM_SNR = X7, Skeweness_DM_SNR = X8, \n .     Class = X9)"
     ]
    }
   ],
   "source": [
    " pulsar_data <- read_csv(\"HTRU_2.csv\", col_names = FALSE) |>   #reading data into rand giving the column readable names\n",
    "                            rename(Mean_IP = X1,\n",
    "                                   SD_IP = X2,\n",
    "                                   Kurtosis_IP = X3,\n",
    "                                   Skewness_IP = X4,\n",
    "                                   Mean_DM_SNR = X5,\n",
    "                                   SD_DM_SNR = X6,\n",
    "                                   Kurtosis_DM_SNR = X7,\n",
    "                                   Skeweness_DM_SNR = X8,\n",
    "                                   Class = X9) |>\n",
    "                            mutate(Class = as_factor(Class)) |>\n",
    "                            mutate(Class = fct_recode(Class, \"Spurious\" = \"0\", \"Real Pulsar\" = \"1\"))\n",
    "pulsar_data"
   ]
  },
  {
   "cell_type": "code",
   "execution_count": 34,
   "id": "3aa02797-4bc0-4606-af6d-fb626e576988",
   "metadata": {},
   "outputs": [
    {
     "name": "stdout",
     "output_type": "stream",
     "text": [
      "Rows: 17,898\n",
      "Columns: 9\n",
      "$ Mean_IP          \u001b[3m\u001b[90m<dbl>\u001b[39m\u001b[23m 140.56250, 102.50781, 103.01562, 136.75000, 88.72656,…\n",
      "$ SD_IP            \u001b[3m\u001b[90m<dbl>\u001b[39m\u001b[23m 55.68378, 58.88243, 39.34165, 57.17845, 40.67223, 46.…\n",
      "$ Kurtosis_IP      \u001b[3m\u001b[90m<dbl>\u001b[39m\u001b[23m -0.23457141, 0.46531815, 0.32332837, -0.06841464, 0.6…\n",
      "$ Skewness_IP      \u001b[3m\u001b[90m<dbl>\u001b[39m\u001b[23m -0.69964840, -0.51508791, 1.05116443, -0.63623837, 1.…\n",
      "$ Mean_DM_SNR      \u001b[3m\u001b[90m<dbl>\u001b[39m\u001b[23m 3.1998328, 1.6772575, 3.1212375, 3.6429766, 1.1789298…\n",
      "$ SD_DM_SNR        \u001b[3m\u001b[90m<dbl>\u001b[39m\u001b[23m 19.110426, 14.860146, 21.744669, 20.959280, 11.468720…\n",
      "$ Kurtosis_DM_SNR  \u001b[3m\u001b[90m<dbl>\u001b[39m\u001b[23m 7.975532, 10.576487, 7.735822, 6.896499, 14.269573, 1…\n",
      "$ Skeweness_DM_SNR \u001b[3m\u001b[90m<dbl>\u001b[39m\u001b[23m 74.24222, 127.39358, 63.17191, 53.59366, 252.56731, 1…\n",
      "$ Class            \u001b[3m\u001b[90m<fct>\u001b[39m\u001b[23m Spurious, Spurious, Spurious, Spurious, Spurious, Spu…\n"
     ]
    },
    {
     "data": {
      "text/html": [
       "<table class=\"dataframe\">\n",
       "<caption>A tibble: 2 × 1</caption>\n",
       "<thead>\n",
       "\t<tr><th scope=col>Class</th></tr>\n",
       "\t<tr><th scope=col>&lt;fct&gt;</th></tr>\n",
       "</thead>\n",
       "<tbody>\n",
       "\t<tr><td>Spurious   </td></tr>\n",
       "\t<tr><td>Real Pulsar</td></tr>\n",
       "</tbody>\n",
       "</table>\n"
      ],
      "text/latex": [
       "A tibble: 2 × 1\n",
       "\\begin{tabular}{l}\n",
       " Class\\\\\n",
       " <fct>\\\\\n",
       "\\hline\n",
       "\t Spurious   \\\\\n",
       "\t Real Pulsar\\\\\n",
       "\\end{tabular}\n"
      ],
      "text/markdown": [
       "\n",
       "A tibble: 2 × 1\n",
       "\n",
       "| Class &lt;fct&gt; |\n",
       "|---|\n",
       "| Spurious    |\n",
       "| Real Pulsar |\n",
       "\n"
      ],
      "text/plain": [
       "  Class      \n",
       "1 Spurious   \n",
       "2 Real Pulsar"
      ]
     },
     "metadata": {},
     "output_type": "display_data"
    },
    {
     "data": {
      "text/html": [
       "<table class=\"dataframe\">\n",
       "<caption>A tibble: 2 × 4</caption>\n",
       "<thead>\n",
       "\t<tr><th scope=col>Class</th><th scope=col>count</th><th scope=col>percentage</th><th scope=col>na.rm</th></tr>\n",
       "\t<tr><th scope=col>&lt;fct&gt;</th><th scope=col>&lt;int&gt;</th><th scope=col>&lt;dbl&gt;</th><th scope=col>&lt;lgl&gt;</th></tr>\n",
       "</thead>\n",
       "<tbody>\n",
       "\t<tr><td>Spurious   </td><td>16259</td><td>90.842552</td><td>TRUE</td></tr>\n",
       "\t<tr><td>Real Pulsar</td><td> 1639</td><td> 9.157448</td><td>TRUE</td></tr>\n",
       "</tbody>\n",
       "</table>\n"
      ],
      "text/latex": [
       "A tibble: 2 × 4\n",
       "\\begin{tabular}{llll}\n",
       " Class & count & percentage & na.rm\\\\\n",
       " <fct> & <int> & <dbl> & <lgl>\\\\\n",
       "\\hline\n",
       "\t Spurious    & 16259 & 90.842552 & TRUE\\\\\n",
       "\t Real Pulsar &  1639 &  9.157448 & TRUE\\\\\n",
       "\\end{tabular}\n"
      ],
      "text/markdown": [
       "\n",
       "A tibble: 2 × 4\n",
       "\n",
       "| Class &lt;fct&gt; | count &lt;int&gt; | percentage &lt;dbl&gt; | na.rm &lt;lgl&gt; |\n",
       "|---|---|---|---|\n",
       "| Spurious    | 16259 | 90.842552 | TRUE |\n",
       "| Real Pulsar |  1639 |  9.157448 | TRUE |\n",
       "\n"
      ],
      "text/plain": [
       "  Class       count percentage na.rm\n",
       "1 Spurious    16259 90.842552  TRUE \n",
       "2 Real Pulsar  1639  9.157448  TRUE "
      ]
     },
     "metadata": {},
     "output_type": "display_data"
    },
    {
     "data": {
      "text/html": [
       "17898"
      ],
      "text/latex": [
       "17898"
      ],
      "text/markdown": [
       "17898"
      ],
      "text/plain": [
       "[1] 17898"
      ]
     },
     "metadata": {},
     "output_type": "display_data"
    },
    {
     "data": {
      "text/html": [
       "<table class=\"dataframe\">\n",
       "<caption>A tibble: 2 × 3</caption>\n",
       "<thead>\n",
       "\t<tr><th scope=col>Class</th><th scope=col>count</th><th scope=col>percentage</th></tr>\n",
       "\t<tr><th scope=col>&lt;fct&gt;</th><th scope=col>&lt;int&gt;</th><th scope=col>&lt;dbl&gt;</th></tr>\n",
       "</thead>\n",
       "<tbody>\n",
       "\t<tr><td>Spurious   </td><td>16259</td><td>90.842552</td></tr>\n",
       "\t<tr><td>Real Pulsar</td><td> 1639</td><td> 9.157448</td></tr>\n",
       "</tbody>\n",
       "</table>\n"
      ],
      "text/latex": [
       "A tibble: 2 × 3\n",
       "\\begin{tabular}{lll}\n",
       " Class & count & percentage\\\\\n",
       " <fct> & <int> & <dbl>\\\\\n",
       "\\hline\n",
       "\t Spurious    & 16259 & 90.842552\\\\\n",
       "\t Real Pulsar &  1639 &  9.157448\\\\\n",
       "\\end{tabular}\n"
      ],
      "text/markdown": [
       "\n",
       "A tibble: 2 × 3\n",
       "\n",
       "| Class &lt;fct&gt; | count &lt;int&gt; | percentage &lt;dbl&gt; |\n",
       "|---|---|---|\n",
       "| Spurious    | 16259 | 90.842552 |\n",
       "| Real Pulsar |  1639 |  9.157448 |\n",
       "\n"
      ],
      "text/plain": [
       "  Class       count percentage\n",
       "1 Spurious    16259 90.842552 \n",
       "2 Real Pulsar  1639  9.157448 "
      ]
     },
     "metadata": {},
     "output_type": "display_data"
    },
    {
     "data": {
      "text/html": [
       "<table class=\"dataframe\">\n",
       "<caption>A tibble: 1 × 1</caption>\n",
       "<thead>\n",
       "\t<tr><th scope=col>count</th></tr>\n",
       "\t<tr><th scope=col>&lt;dbl&gt;</th></tr>\n",
       "</thead>\n",
       "<tbody>\n",
       "\t<tr><td>68.10162</td></tr>\n",
       "</tbody>\n",
       "</table>\n"
      ],
      "text/latex": [
       "A tibble: 1 × 1\n",
       "\\begin{tabular}{l}\n",
       " count\\\\\n",
       " <dbl>\\\\\n",
       "\\hline\n",
       "\t 68.10162\\\\\n",
       "\\end{tabular}\n"
      ],
      "text/markdown": [
       "\n",
       "A tibble: 1 × 1\n",
       "\n",
       "| count &lt;dbl&gt; |\n",
       "|---|\n",
       "| 68.10162 |\n",
       "\n"
      ],
      "text/plain": [
       "  count   \n",
       "1 68.10162"
      ]
     },
     "metadata": {},
     "output_type": "display_data"
    },
    {
     "data": {
      "text/plain": [
       "══ Workflow [trained] ══════════════════════════════════════════════════════════\n",
       "\u001b[3mPreprocessor:\u001b[23m Recipe\n",
       "\u001b[3mModel:\u001b[23m nearest_neighbor()\n",
       "\n",
       "── Preprocessor ────────────────────────────────────────────────────────────────\n",
       "2 Recipe Steps\n",
       "\n",
       "• step_scale()\n",
       "• step_center()\n",
       "\n",
       "── Model ───────────────────────────────────────────────────────────────────────\n",
       "\n",
       "Call:\n",
       "kknn::train.kknn(formula = ..y ~ ., data = data, ks = min_rows(5,     data, 5), kernel = ~\"rectangular\")\n",
       "\n",
       "Type of response variable: nominal\n",
       "Minimal misclassification: 0.0224987\n",
       "Best kernel: rectangular\n",
       "Best k: 5"
      ]
     },
     "metadata": {},
     "output_type": "display_data"
    }
   ],
   "source": [
    "\n",
    "\n",
    "\n",
    "\n",
    "glimpse(pulsar_data)  #seeing how many rows exist in the dataset\n",
    "pulsar_data |>\n",
    "distinct(Class)  #checking the distinct classes in the dataset\n",
    "\n",
    "#Finding out how many observations belong to each class as well as the percentage of each class\n",
    "\n",
    "obs <- nrow(pulsar_data)\n",
    "pulsar_data |>\n",
    "  group_by(Class) |>\n",
    "  summarize(\n",
    "    count = n(),\n",
    "    percentage = n() / obs * 100\n",
    "                 \n",
    "  ) \n",
    "obs\n",
    "\n",
    "#splitting data into training and testing sets\n",
    "\n",
    "pulsar_split <- initial_split(pulsar_data, prop = 0.75, strata = Class)\n",
    "pulsar_train <- training(pulsar_split)\n",
    "pulsar_test <- testing(pulsar_split) \n",
    "#glimpse(pulsar_train)\n",
    "#glimpse(pulsar_test)\n",
    "\n",
    "#Finding out how many observations belong to each class as well as the percentage of each class for training set\n",
    "\n",
    "\n",
    "# dataset has no missing values although it is always good to check \n",
    "\n",
    "obs_train <- nrow(pulsar_train)\n",
    "pulsar_data |>\n",
    "  group_by(Class) |>\n",
    "  summarize(\n",
    "    count = n(),\n",
    "    percentage = n() / obs * 100)\n",
    "\n",
    "obs_train\n",
    "\n",
    "\n",
    "    \n",
    "\n",
    "\n",
    "\n",
    "\n",
    "\n"
   ]
  },
  {
   "cell_type": "code",
   "execution_count": null,
   "id": "bfa4e962-49da-417a-beaa-1c3c22e22d4e",
   "metadata": {},
   "outputs": [],
   "source": [
    "#CLEAN AND WRANGLE DATA\n",
    "\n",
    "\n",
    "\n",
    "\n",
    "Kurtosis_IP_Skewness_IP <- pulsar_data |>\n",
    "  ggplot(aes(x = Kurtosis_IP, y = Skewness_IP, color = Class)) +\n",
    "  geom_point(alpha = 0.5) +\n",
    "  labs(color = \"Diagnosis\") +\n",
    "  theme(text = element_text(size = 12)) + \n",
    "\n",
    "Kurtosis_IP_Skewness_IP  \n"
   ]
  },
  {
   "cell_type": "code",
   "execution_count": null,
   "id": "0042004a-cd8d-48f6-8716-3fa1f80c0a91",
   "metadata": {},
   "outputs": [],
   "source": []
  }
 ],
 "metadata": {
  "kernelspec": {
   "display_name": "R",
   "language": "R",
   "name": "ir"
  },
  "language_info": {
   "codemirror_mode": "r",
   "file_extension": ".r",
   "mimetype": "text/x-r-source",
   "name": "R",
   "pygments_lexer": "r",
   "version": "4.3.1"
  }
 },
 "nbformat": 4,
 "nbformat_minor": 5
}

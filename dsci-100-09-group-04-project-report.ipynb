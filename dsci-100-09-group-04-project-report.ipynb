{
 "cells": [
  {
   "cell_type": "markdown",
   "id": "4296edc4-4a4c-471a-9c26-497773d3231a",
   "metadata": {},
   "source": [
    "# DSCI 100 09 Group 04 Project Report"
   ]
  },
  {
   "cell_type": "markdown",
   "id": "2d6e3ac2-ed6f-4a89-a83b-cbd2f9693971",
   "metadata": {
    "tags": []
   },
   "source": [
    "### Introduction\n",
    "\n",
    "\"The HTRU2 dataset consists of pulsar candidates from the High Time Resolution Universe Survey (South).\" Pulsars are a type of Neutron star that rotate rapidly and emit radio signals. Their unique radio emission patterns hold scientific significance and require labeling individualistic pulsar candidates into two classes: 0 (Negative/Spurious) and 1 (Positive/Real Pulsar).\n",
    "\n",
    "With this dataset, we want to determine the relationship between the transmitted radio waves of pulsar stars, visualize the strong relationships between variables, and eventually create a KNN classification model to help classify new incoming observations based off of the current dataset as a training set. More specifically, we want to visualize and observe how the **skewness** and **kurtosis** can determine the class of a pulsar star."
   ]
  },
  {
   "cell_type": "markdown",
   "id": "70fdda6c-0a1f-4911-bbdb-c9637f943f4f",
   "metadata": {},
   "source": [
    "### Methods\n",
    "\n",
    "In our data analysis, we want to visualize and investigate the relationship between the integrated profiles for *skewness* and *kurtosis* of pulsar stars. Through this investigation, we will create a classification model that will classify the pulsar stars based on given observations.\n",
    "\n",
    "The general process to work towards our goal is to start with loading and wrangling the data for quick and easy discernment and comprehension of the observations we are dealing with."
   ]
  },
  {
   "cell_type": "code",
   "execution_count": 8,
   "id": "933effb5-23f8-4c41-85aa-5d98a0785aea",
   "metadata": {
    "tags": []
   },
   "outputs": [],
   "source": [
    "library(tidyverse) \n",
    "library(repr)\n",
    "library(tidymodels)\n",
    "set.seed(1000904)"
   ]
  },
  {
   "cell_type": "code",
   "execution_count": null,
   "id": "f0a12f5e-ddd8-4191-a042-662929a923c3",
   "metadata": {},
   "outputs": [],
   "source": []
  }
 ],
 "metadata": {
  "kernelspec": {
   "display_name": "R",
   "language": "R",
   "name": "ir"
  },
  "language_info": {
   "codemirror_mode": "r",
   "file_extension": ".r",
   "mimetype": "text/x-r-source",
   "name": "R",
   "pygments_lexer": "r",
   "version": "4.2.2"
  }
 },
 "nbformat": 4,
 "nbformat_minor": 5
}
